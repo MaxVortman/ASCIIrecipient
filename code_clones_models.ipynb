{
  "nbformat": 4,
  "nbformat_minor": 0,
  "metadata": {
    "colab": {
      "name": "code-clones-models.ipynb",
      "version": "0.3.2",
      "provenance": [],
      "collapsed_sections": [],
      "include_colab_link": true
    },
    "kernelspec": {
      "display_name": "Python 3",
      "language": "python",
      "name": "python3"
    }
  },
  "cells": [
    {
      "cell_type": "markdown",
      "metadata": {
        "id": "view-in-github",
        "colab_type": "text"
      },
      "source": [
        "<a href=\"https://colab.research.google.com/github/MaxVortman/ASCIIrecipient/blob/master/code_clones_models.ipynb\" target=\"_parent\"><img src=\"https://colab.research.google.com/assets/colab-badge.svg\" alt=\"Open In Colab\"/></a>"
      ]
    },
    {
      "cell_type": "markdown",
      "metadata": {
        "id": "VgCPCXy9_Z8f",
        "colab_type": "text"
      },
      "source": [
        "# Logistic Regression"
      ]
    },
    {
      "cell_type": "code",
      "metadata": {
        "id": "cvH-jD_u_Z8k",
        "colab_type": "code",
        "colab": {}
      },
      "source": [
        "import pandas as pd\n",
        "import numpy as np\n",
        "from collections import Counter\n",
        "from imblearn.under_sampling import RandomUnderSampler\n",
        "from sklearn.model_selection import train_test_split\n",
        "from sklearn.linear_model import LogisticRegression\n",
        "from sklearn.model_selection import GridSearchCV\n",
        "from scipy import sparse\n",
        "\n",
        "import warnings\n",
        "warnings.filterwarnings('ignore')"
      ],
      "execution_count": 0,
      "outputs": []
    },
    {
      "cell_type": "code",
      "metadata": {
        "id": "RVN3aC5T_Z9T",
        "colab_type": "code",
        "colab": {}
      },
      "source": [
        "from sklearn.metrics import accuracy_score, precision_score, recall_score\n",
        "\n",
        "def printMetrics(y_test, y_pred):\n",
        "    print('accuracy: ')\n",
        "    print(accuracy_score(y_test, y_pred))\n",
        "    print('\\nprecision: ')\n",
        "    print(precision_score(y_test, y_pred))\n",
        "    print('\\nrecall: ')\n",
        "    print(recall_score(y_test, y_pred))"
      ],
      "execution_count": 0,
      "outputs": []
    },
    {
      "cell_type": "code",
      "metadata": {
        "id": "AfwM70LzEj_2",
        "colab_type": "code",
        "colab": {}
      },
      "source": [
        "def resample(X, y):\n",
        "  rus = RandomUnderSampler(random_state=23)\n",
        "  return rus.fit_resample(X, y)"
      ],
      "execution_count": 0,
      "outputs": []
    },
    {
      "cell_type": "code",
      "metadata": {
        "id": "2wnaNqLl8KOp",
        "colab_type": "code",
        "colab": {}
      },
      "source": [
        "def logit_with_gs(df, C=1):\n",
        "  y = df['exp']\n",
        "  X = df.drop('exp', 1)\n",
        "  X_resampled, y_resampled = resample(X, y)\n",
        "  print(sorted(Counter(y_resampled).items()))\n",
        "  X_train, X_test, y_train, y_test = train_test_split(X_resampled, y_resampled, random_state=23)\n",
        "  clf = LogisticRegression(random_state=23, C=C)\n",
        "  clf.fit(X_train, y_train)\n",
        "  y_pred = clf.predict(X_test)\n",
        "  printMetrics(y_test, y_pred)\n",
        "  #parameters = {'C':[0.01, 0.03, 0.1, 0.3, 1, 3]}\n",
        "  #best_clf = GridSearchCV(LogisticRegression(random_state=23), parameters, cv=10)\n",
        "  #best_clf.fit(X_resampled, y_resampled)\n",
        "  #print(best_clf.best_estimator_)\n",
        "  #print(best_clf.best_score_)"
      ],
      "execution_count": 0,
      "outputs": []
    },
    {
      "cell_type": "markdown",
      "metadata": {
        "id": "-X403mTc63eU",
        "colab_type": "text"
      },
      "source": [
        "## Bag of words"
      ]
    },
    {
      "cell_type": "code",
      "metadata": {
        "id": "lxmxQciRAbkN",
        "colab_type": "code",
        "outputId": "9426347f-410f-434b-8dd1-53b86ffac47b",
        "colab": {
          "base_uri": "https://localhost:8080/",
          "height": 122
        }
      },
      "source": [
        "from google.colab import drive\n",
        "drive.mount('/content/gdrive')"
      ],
      "execution_count": 0,
      "outputs": [
        {
          "output_type": "stream",
          "text": [
            "Go to this URL in a browser: https://accounts.google.com/o/oauth2/auth?client_id=947318989803-6bn6qk8qdgf4n4g3pfee6491hc0brc4i.apps.googleusercontent.com&redirect_uri=urn%3Aietf%3Awg%3Aoauth%3A2.0%3Aoob&scope=email%20https%3A%2F%2Fwww.googleapis.com%2Fauth%2Fdocs.test%20https%3A%2F%2Fwww.googleapis.com%2Fauth%2Fdrive%20https%3A%2F%2Fwww.googleapis.com%2Fauth%2Fdrive.photos.readonly%20https%3A%2F%2Fwww.googleapis.com%2Fauth%2Fpeopleapi.readonly&response_type=code\n",
            "\n",
            "Enter your authorization code:\n",
            "··········\n",
            "Mounted at /content/gdrive\n"
          ],
          "name": "stdout"
        }
      ]
    },
    {
      "cell_type": "code",
      "metadata": {
        "id": "rVOfxVy2_Z8x",
        "colab_type": "code",
        "colab": {}
      },
      "source": [
        "sparse_bow_X = sparse.load_npz(\"/content/gdrive/My Drive/code-clones/csv/bagofwords_vectors_X.npz\")\n",
        "sparse_bow_y = sparse.load_npz(\"/content/gdrive/My Drive/code-clones/csv/bagofwords_vectors_y.npz\").T"
      ],
      "execution_count": 0,
      "outputs": []
    },
    {
      "cell_type": "code",
      "metadata": {
        "id": "3YnUcesCfFym",
        "colab_type": "code",
        "outputId": "0ada9b0c-2468-47fe-fc5b-e59c793bba7d",
        "colab": {
          "base_uri": "https://localhost:8080/",
          "height": 34
        }
      },
      "source": [
        "sparse_bow_y.shape"
      ],
      "execution_count": 0,
      "outputs": [
        {
          "output_type": "execute_result",
          "data": {
            "text/plain": [
              "(19990, 1)"
            ]
          },
          "metadata": {
            "tags": []
          },
          "execution_count": 35
        }
      ]
    },
    {
      "cell_type": "code",
      "metadata": {
        "id": "kIdMIIrYf6Db",
        "colab_type": "code",
        "outputId": "8e7314a6-da35-4c4e-c81d-153e6717deac",
        "colab": {
          "base_uri": "https://localhost:8080/",
          "height": 34
        }
      },
      "source": [
        "sparse_bow_X.shape"
      ],
      "execution_count": 0,
      "outputs": [
        {
          "output_type": "execute_result",
          "data": {
            "text/plain": [
              "(19990, 52736)"
            ]
          },
          "metadata": {
            "tags": []
          },
          "execution_count": 36
        }
      ]
    },
    {
      "cell_type": "code",
      "metadata": {
        "id": "EIhpsRnuQQJz",
        "colab_type": "code",
        "colab": {}
      },
      "source": [
        "X_resampled, y_resampled = resample(sparse_bow_X, sparse_bow_y.toarray())\n",
        "#print(sorted(Counter(y_resampled.T).items()))\n",
        "X_train, X_test, y_train, y_test = train_test_split(X_resampled, y_resampled, random_state=23)"
      ],
      "execution_count": 0,
      "outputs": []
    },
    {
      "cell_type": "code",
      "metadata": {
        "id": "z5zY9EsYoZwX",
        "colab_type": "code",
        "outputId": "094f6668-0a40-4648-cf3e-15a3fc6292b7",
        "colab": {
          "base_uri": "https://localhost:8080/",
          "height": 408
        }
      },
      "source": [
        "!git clone https://github.com/hyperopt/hyperopt-sklearn\n",
        "%cd hyperopt-sklearn\n",
        "!pip install -e ."
      ],
      "execution_count": 0,
      "outputs": [
        {
          "output_type": "stream",
          "text": [
            "Cloning into 'hyperopt-sklearn'...\n",
            "remote: Enumerating objects: 7, done.\u001b[K\n",
            "remote: Counting objects: 100% (7/7), done.\u001b[K\n",
            "remote: Compressing objects: 100% (7/7), done.\u001b[K\n",
            "remote: Total 1171 (delta 1), reused 4 (delta 0), pack-reused 1164\u001b[K\n",
            "Receiving objects: 100% (1171/1171), 2.00 MiB | 19.71 MiB/s, done.\n",
            "Resolving deltas: 100% (708/708), done.\n",
            "/content/hyperopt-sklearn\n",
            "Obtaining file:///content/hyperopt-sklearn\n",
            "Requirement already satisfied: hyperopt in /usr/local/lib/python3.6/dist-packages (from hpsklearn==0.0.3) (0.1.2)\n",
            "Requirement already satisfied: nose in /usr/local/lib/python3.6/dist-packages (from hpsklearn==0.0.3) (1.3.7)\n",
            "Requirement already satisfied: numpy in /usr/local/lib/python3.6/dist-packages (from hpsklearn==0.0.3) (1.16.3)\n",
            "Requirement already satisfied: scikit-learn in /usr/local/lib/python3.6/dist-packages (from hpsklearn==0.0.3) (0.20.3)\n",
            "Requirement already satisfied: scipy in /usr/local/lib/python3.6/dist-packages (from hpsklearn==0.0.3) (1.2.1)\n",
            "Requirement already satisfied: future in /usr/local/lib/python3.6/dist-packages (from hyperopt->hpsklearn==0.0.3) (0.16.0)\n",
            "Requirement already satisfied: pymongo in /usr/local/lib/python3.6/dist-packages (from hyperopt->hpsklearn==0.0.3) (3.8.0)\n",
            "Requirement already satisfied: tqdm in /usr/local/lib/python3.6/dist-packages (from hyperopt->hpsklearn==0.0.3) (4.28.1)\n",
            "Requirement already satisfied: networkx in /usr/local/lib/python3.6/dist-packages (from hyperopt->hpsklearn==0.0.3) (2.3)\n",
            "Requirement already satisfied: six in /usr/local/lib/python3.6/dist-packages (from hyperopt->hpsklearn==0.0.3) (1.12.0)\n",
            "Requirement already satisfied: decorator>=4.3.0 in /usr/local/lib/python3.6/dist-packages (from networkx->hyperopt->hpsklearn==0.0.3) (4.4.0)\n",
            "Installing collected packages: hpsklearn\n",
            "  Running setup.py develop for hpsklearn\n",
            "Successfully installed hpsklearn\n"
          ],
          "name": "stdout"
        }
      ]
    },
    {
      "cell_type": "code",
      "metadata": {
        "id": "M-9j_qPWolyb",
        "colab_type": "code",
        "outputId": "5b77fd64-272c-4abe-e807-9041d9c6b1a6",
        "colab": {
          "base_uri": "https://localhost:8080/",
          "height": 51
        }
      },
      "source": [
        "from hpsklearn import HyperoptEstimator, any_sparse_classifier, any_classifier\n",
        "from hyperopt import tpe"
      ],
      "execution_count": 0,
      "outputs": [
        {
          "output_type": "stream",
          "text": [
            "WARN: OMP_NUM_THREADS=None =>\n",
            "... If you are using openblas if you are using openblas set OMP_NUM_THREADS=1 or risk subprocess calls hanging indefinitely\n"
          ],
          "name": "stdout"
        }
      ]
    },
    {
      "cell_type": "markdown",
      "metadata": {
        "id": "mh2Hady7f4Wl",
        "colab_type": "text"
      },
      "source": [
        "## Сustom loss"
      ]
    },
    {
      "cell_type": "code",
      "metadata": {
        "id": "Mc2BTds0bwu-",
        "colab_type": "code",
        "colab": {}
      },
      "source": [
        "def calc_fnr_fpr(y_target, y_prediction):\n",
        "  fp = 0\n",
        "  fn = 0\n",
        "  n = len(y_target)\n",
        "  for i in range(n):\n",
        "    if y_prediction[i] == 1 and y_target[i] == 0:\n",
        "      fp += 1\n",
        "    if y_prediction[i] == 0 and y_target[i] == 1:\n",
        "      fn += 1\n",
        "  return (fn / n, fp / n) "
      ],
      "execution_count": 0,
      "outputs": []
    },
    {
      "cell_type": "code",
      "metadata": {
        "id": "RoeNibZZUjWI",
        "colab_type": "code",
        "colab": {}
      },
      "source": [
        "def custom_loss(y_target, y_prediction):\n",
        "  k_fn = 1\n",
        "  k_fp = 10\n",
        "  n = len(y_target)\n",
        "  (fnr, fpr) = calc_fnr_fpr(y_target, y_prediction)\n",
        "  return k_fn * fnr + k_fp * fpr"
      ],
      "execution_count": 0,
      "outputs": []
    },
    {
      "cell_type": "code",
      "metadata": {
        "id": "dl1lbF9vZ63J",
        "colab_type": "code",
        "colab": {}
      },
      "source": [
        "def hyperopt_custom_loss_estimator(X_train, y_train, sparse=True):\n",
        "  classifier = any_sparse_classifier('clf') if sparse else any_classifier('clf')\n",
        "  estim = HyperoptEstimator(classifier=classifier,\n",
        "                          preprocessing=[],\n",
        "                          algo=tpe.suggest, \n",
        "                          trial_timeout=300,\n",
        "                          loss_fn=custom_loss,\n",
        "                          seed=23)\n",
        "  estim.fit(X_train, y_train)\n",
        "  return estim"
      ],
      "execution_count": 0,
      "outputs": []
    },
    {
      "cell_type": "markdown",
      "metadata": {
        "id": "gc5sI_mSf_SY",
        "colab_type": "text"
      },
      "source": [
        "## Custom loss bow"
      ]
    },
    {
      "cell_type": "code",
      "metadata": {
        "id": "DGcvcNoAdIXC",
        "colab_type": "code",
        "outputId": "343b063e-0288-4fc8-dbf7-a8348a29852a",
        "colab": {
          "base_uri": "https://localhost:8080/",
          "height": 204
        }
      },
      "source": [
        "estim = hyperopt_custom_loss_estimator(X_train, y_train)\n",
        "y_pred = estim.predict(X_test)\n",
        "calc_fnr_fpr(y_test, y_pred)"
      ],
      "execution_count": 0,
      "outputs": [
        {
          "output_type": "stream",
          "text": [
            "100%|██████████| 1/1 [01:22<00:00, 82.20s/it, best loss: 1.7004297114794351]\n",
            "100%|██████████| 1/1 [00:00<00:00,  1.71it/s, best loss: 1.7004297114794351]\n",
            "100%|██████████| 1/1 [00:00<00:00,  9.83it/s, best loss: 1.4223449969306323]\n",
            "100%|██████████| 1/1 [00:00<00:00,  1.96it/s, best loss: 1.4223449969306323]\n",
            "100%|██████████| 1/1 [00:04<00:00,  4.43s/it, best loss: 1.4223449969306323]\n",
            "100%|██████████| 1/1 [01:14<00:00, 74.37s/it, best loss: 1.4223449969306323]\n",
            "100%|██████████| 1/1 [00:00<00:00, 12.23it/s, best loss: 1.4223449969306323]\n",
            "100%|██████████| 1/1 [00:00<00:00, 12.97it/s, best loss: 1.4223449969306323]\n",
            "100%|██████████| 1/1 [00:00<00:00,  3.31it/s, best loss: 1.4223449969306323]\n",
            "100%|██████████| 1/1 [00:00<00:00, 12.52it/s, best loss: 1.4223449969306323]\n"
          ],
          "name": "stdout"
        },
        {
          "output_type": "execute_result",
          "data": {
            "text/plain": [
              "(0.1285451197053407, 0.1406998158379374)"
            ]
          },
          "metadata": {
            "tags": []
          },
          "execution_count": 38
        }
      ]
    },
    {
      "cell_type": "code",
      "metadata": {
        "id": "KexPm_aOsom3",
        "colab_type": "code",
        "outputId": "ad7cda30-2c97-43c1-9b27-6a0be4f05228",
        "colab": {
          "base_uri": "https://localhost:8080/",
          "height": 187
        }
      },
      "source": [
        "estim.best_model()"
      ],
      "execution_count": 0,
      "outputs": [
        {
          "output_type": "execute_result",
          "data": {
            "text/plain": [
              "{'ex_preprocs': (),\n",
              " 'learner': SGDClassifier(alpha=0.06118428364662971, average=False, class_weight=None,\n",
              "        early_stopping=False, epsilon=0.1, eta0=0.0003970052556398526,\n",
              "        fit_intercept=True, l1_ratio=0.5022724095962902,\n",
              "        learning_rate='constant', loss='log', max_iter=158684350.0,\n",
              "        n_iter=None, n_iter_no_change=5, n_jobs=1, penalty='l2',\n",
              "        power_t=0.907051629874976, random_state=0, shuffle=True,\n",
              "        tol=0.006308140398304822, validation_fraction=0.1, verbose=False,\n",
              "        warm_start=False),\n",
              " 'preprocs': ()}"
            ]
          },
          "metadata": {
            "tags": []
          },
          "execution_count": 39
        }
      ]
    },
    {
      "cell_type": "markdown",
      "metadata": {
        "id": "OP1ikx_6gDHv",
        "colab_type": "text"
      },
      "source": [
        "## Hyperopt bow"
      ]
    },
    {
      "cell_type": "code",
      "metadata": {
        "id": "0HYHwFfvBHnT",
        "colab_type": "code",
        "outputId": "0213cd5e-61dd-4d79-b188-fef4fbac40d6",
        "colab": {
          "base_uri": "https://localhost:8080/",
          "height": 323
        }
      },
      "source": [
        "estim = HyperoptEstimator(classifier=any_sparse_classifier('clf'),\n",
        "                          preprocessing=[],\n",
        "                          algo=tpe.suggest, \n",
        "                          trial_timeout=300,\n",
        "                          seed=23)\n",
        "estim.fit(X_train, y_train)\n",
        "y_pred = estim.predict(X_test)\n",
        "printMetrics(y_test, y_pred)"
      ],
      "execution_count": 0,
      "outputs": [
        {
          "output_type": "stream",
          "text": [
            "100%|██████████| 1/1 [01:10<00:00, 70.73s/it, best loss: 0.3136893799877225]\n",
            "100%|██████████| 1/1 [00:00<00:00,  2.22it/s, best loss: 0.3063228974831185]\n",
            "100%|██████████| 1/1 [00:00<00:00, 12.71it/s, best loss: 0.26212400245549416]\n",
            "100%|██████████| 1/1 [00:00<00:00,  2.31it/s, best loss: 0.26212400245549416]\n",
            "100%|██████████| 1/1 [00:04<00:00,  4.20s/it, best loss: 0.2523020257826888]\n",
            "100%|██████████| 1/1 [01:10<00:00, 70.10s/it, best loss: 0.2523020257826888]\n",
            "100%|██████████| 1/1 [00:00<00:00, 15.39it/s, best loss: 0.2523020257826888]\n",
            "100%|██████████| 1/1 [00:00<00:00, 15.55it/s, best loss: 0.2523020257826888]\n",
            "100%|██████████| 1/1 [00:00<00:00,  3.62it/s, best loss: 0.2523020257826888]\n",
            "100%|██████████| 1/1 [00:00<00:00, 15.54it/s, best loss: 0.2523020257826888]\n",
            "accuracy: \n",
            "0.7524861878453039\n",
            "\n",
            "precision: \n",
            "0.7416723317471108\n",
            "\n",
            "recall: \n",
            "0.7888647866955893\n"
          ],
          "name": "stdout"
        }
      ]
    },
    {
      "cell_type": "code",
      "metadata": {
        "id": "7rL1yele9Nef",
        "colab_type": "code",
        "outputId": "0e5d99cc-22dd-4569-e815-fe2f5f13117a",
        "colab": {
          "base_uri": "https://localhost:8080/",
          "height": 153
        }
      },
      "source": [
        "clf = LogisticRegression(random_state=23)\n",
        "clf.fit(X_train, y_train)\n",
        "y_pred = clf.predict(X_test)\n",
        "printMetrics(y_test, y_pred)"
      ],
      "execution_count": 0,
      "outputs": [
        {
          "output_type": "stream",
          "text": [
            "accuracy: \n",
            "0.7473296500920811\n",
            "\n",
            "precision: \n",
            "0.744218640504555\n",
            "\n",
            "recall: \n",
            "0.7678958785249458\n"
          ],
          "name": "stdout"
        }
      ]
    },
    {
      "cell_type": "markdown",
      "metadata": {
        "id": "GxsBu2hF68Ps",
        "colab_type": "text"
      },
      "source": [
        "## code2vec"
      ]
    },
    {
      "cell_type": "code",
      "metadata": {
        "id": "1SzghHhF6_Yc",
        "colab_type": "code",
        "colab": {}
      },
      "source": [
        "df1 = pd.read_csv(\"/content/gdrive/My Drive/code-clones/csv/lwjgl3_code2vec_vectors1.csv\")\n",
        "df2 = pd.read_csv(\"/content/gdrive/My Drive/code-clones/csv/lwjgl3_code2vec_vectors2.csv\")\n",
        "df3 = pd.read_csv(\"/content/gdrive/My Drive/code-clones/csv/lwjgl_code2vec_vectors.csv\")\n",
        "df4 = pd.read_csv(\"/content/gdrive/My Drive/code-clones/csv/spring_code2vec_vectors.csv\")\n",
        "df5 = pd.read_csv(\"/content/gdrive/My Drive/code-clones/csv/jenkins_code2vec_vectors.csv\")\n",
        "df6 = pd.read_csv(\"/content/gdrive/My Drive/code-clones/csv/rxjava_code2vec_vectors.csv\")\n",
        "df_c2v = pd.concat([df1, df2, df3, df4, df5, df6], axis=0)"
      ],
      "execution_count": 0,
      "outputs": []
    },
    {
      "cell_type": "code",
      "metadata": {
        "id": "3eaI3BuZ7eEC",
        "colab_type": "code",
        "outputId": "6f523710-e0c2-4106-d1f3-583bdf28ac27",
        "colab": {
          "base_uri": "https://localhost:8080/",
          "height": 233
        }
      },
      "source": [
        "df_c2v.head()"
      ],
      "execution_count": 0,
      "outputs": [
        {
          "output_type": "execute_result",
          "data": {
            "text/html": [
              "<div>\n",
              "<style scoped>\n",
              "    .dataframe tbody tr th:only-of-type {\n",
              "        vertical-align: middle;\n",
              "    }\n",
              "\n",
              "    .dataframe tbody tr th {\n",
              "        vertical-align: top;\n",
              "    }\n",
              "\n",
              "    .dataframe thead th {\n",
              "        text-align: right;\n",
              "    }\n",
              "</style>\n",
              "<table border=\"1\" class=\"dataframe\">\n",
              "  <thead>\n",
              "    <tr style=\"text-align: right;\">\n",
              "      <th></th>\n",
              "      <th>exp</th>\n",
              "      <th>1</th>\n",
              "      <th>2</th>\n",
              "      <th>3</th>\n",
              "      <th>4</th>\n",
              "      <th>5</th>\n",
              "      <th>6</th>\n",
              "      <th>7</th>\n",
              "      <th>8</th>\n",
              "      <th>9</th>\n",
              "      <th>...</th>\n",
              "      <th>375</th>\n",
              "      <th>376</th>\n",
              "      <th>377</th>\n",
              "      <th>378</th>\n",
              "      <th>379</th>\n",
              "      <th>380</th>\n",
              "      <th>381</th>\n",
              "      <th>382</th>\n",
              "      <th>383</th>\n",
              "      <th>384</th>\n",
              "    </tr>\n",
              "  </thead>\n",
              "  <tbody>\n",
              "    <tr>\n",
              "      <th>0</th>\n",
              "      <td>0.0</td>\n",
              "      <td>0.708866</td>\n",
              "      <td>-0.139283</td>\n",
              "      <td>0.790398</td>\n",
              "      <td>0.880303</td>\n",
              "      <td>0.291317</td>\n",
              "      <td>0.553174</td>\n",
              "      <td>0.823598</td>\n",
              "      <td>-0.693108</td>\n",
              "      <td>-0.379951</td>\n",
              "      <td>...</td>\n",
              "      <td>0.409421</td>\n",
              "      <td>-0.743124</td>\n",
              "      <td>-0.406415</td>\n",
              "      <td>0.348190</td>\n",
              "      <td>-0.722999</td>\n",
              "      <td>0.883331</td>\n",
              "      <td>0.975385</td>\n",
              "      <td>0.811376</td>\n",
              "      <td>0.529098</td>\n",
              "      <td>-0.580801</td>\n",
              "    </tr>\n",
              "    <tr>\n",
              "      <th>1</th>\n",
              "      <td>0.0</td>\n",
              "      <td>0.457570</td>\n",
              "      <td>0.465724</td>\n",
              "      <td>0.049870</td>\n",
              "      <td>0.329546</td>\n",
              "      <td>0.185015</td>\n",
              "      <td>-0.367061</td>\n",
              "      <td>0.646942</td>\n",
              "      <td>0.066054</td>\n",
              "      <td>-0.377213</td>\n",
              "      <td>...</td>\n",
              "      <td>0.422311</td>\n",
              "      <td>0.542749</td>\n",
              "      <td>0.726254</td>\n",
              "      <td>0.081205</td>\n",
              "      <td>-0.139942</td>\n",
              "      <td>-0.282454</td>\n",
              "      <td>0.584696</td>\n",
              "      <td>0.316820</td>\n",
              "      <td>0.038821</td>\n",
              "      <td>-0.080841</td>\n",
              "    </tr>\n",
              "    <tr>\n",
              "      <th>2</th>\n",
              "      <td>0.0</td>\n",
              "      <td>0.674882</td>\n",
              "      <td>-0.227605</td>\n",
              "      <td>-0.051460</td>\n",
              "      <td>0.322587</td>\n",
              "      <td>0.113033</td>\n",
              "      <td>-0.206298</td>\n",
              "      <td>0.618875</td>\n",
              "      <td>-0.831079</td>\n",
              "      <td>0.467831</td>\n",
              "      <td>...</td>\n",
              "      <td>0.380035</td>\n",
              "      <td>-0.358241</td>\n",
              "      <td>0.168523</td>\n",
              "      <td>-0.115633</td>\n",
              "      <td>0.013167</td>\n",
              "      <td>-0.600655</td>\n",
              "      <td>-0.152489</td>\n",
              "      <td>0.309746</td>\n",
              "      <td>0.104927</td>\n",
              "      <td>-0.338480</td>\n",
              "    </tr>\n",
              "    <tr>\n",
              "      <th>3</th>\n",
              "      <td>0.0</td>\n",
              "      <td>0.238518</td>\n",
              "      <td>0.239017</td>\n",
              "      <td>-0.329432</td>\n",
              "      <td>0.076081</td>\n",
              "      <td>0.674525</td>\n",
              "      <td>0.240891</td>\n",
              "      <td>-0.138851</td>\n",
              "      <td>0.377708</td>\n",
              "      <td>-0.052835</td>\n",
              "      <td>...</td>\n",
              "      <td>-0.629672</td>\n",
              "      <td>-0.818671</td>\n",
              "      <td>-0.240460</td>\n",
              "      <td>0.834071</td>\n",
              "      <td>-0.167629</td>\n",
              "      <td>-0.331171</td>\n",
              "      <td>-0.589584</td>\n",
              "      <td>0.668989</td>\n",
              "      <td>0.260057</td>\n",
              "      <td>0.465806</td>\n",
              "    </tr>\n",
              "    <tr>\n",
              "      <th>4</th>\n",
              "      <td>0.0</td>\n",
              "      <td>-0.261068</td>\n",
              "      <td>-0.683279</td>\n",
              "      <td>-0.386828</td>\n",
              "      <td>0.031994</td>\n",
              "      <td>-0.891767</td>\n",
              "      <td>0.202983</td>\n",
              "      <td>-0.022529</td>\n",
              "      <td>0.667178</td>\n",
              "      <td>0.515003</td>\n",
              "      <td>...</td>\n",
              "      <td>-0.393192</td>\n",
              "      <td>0.125753</td>\n",
              "      <td>0.020193</td>\n",
              "      <td>0.403067</td>\n",
              "      <td>-0.779176</td>\n",
              "      <td>0.066885</td>\n",
              "      <td>0.953279</td>\n",
              "      <td>-0.108147</td>\n",
              "      <td>0.251376</td>\n",
              "      <td>-0.543750</td>\n",
              "    </tr>\n",
              "  </tbody>\n",
              "</table>\n",
              "<p>5 rows × 385 columns</p>\n",
              "</div>"
            ],
            "text/plain": [
              "   exp         1         2         3         4         5         6         7  \\\n",
              "0  0.0  0.708866 -0.139283  0.790398  0.880303  0.291317  0.553174  0.823598   \n",
              "1  0.0  0.457570  0.465724  0.049870  0.329546  0.185015 -0.367061  0.646942   \n",
              "2  0.0  0.674882 -0.227605 -0.051460  0.322587  0.113033 -0.206298  0.618875   \n",
              "3  0.0  0.238518  0.239017 -0.329432  0.076081  0.674525  0.240891 -0.138851   \n",
              "4  0.0 -0.261068 -0.683279 -0.386828  0.031994 -0.891767  0.202983 -0.022529   \n",
              "\n",
              "          8         9  ...       375       376       377       378       379  \\\n",
              "0 -0.693108 -0.379951  ...  0.409421 -0.743124 -0.406415  0.348190 -0.722999   \n",
              "1  0.066054 -0.377213  ...  0.422311  0.542749  0.726254  0.081205 -0.139942   \n",
              "2 -0.831079  0.467831  ...  0.380035 -0.358241  0.168523 -0.115633  0.013167   \n",
              "3  0.377708 -0.052835  ... -0.629672 -0.818671 -0.240460  0.834071 -0.167629   \n",
              "4  0.667178  0.515003  ... -0.393192  0.125753  0.020193  0.403067 -0.779176   \n",
              "\n",
              "        380       381       382       383       384  \n",
              "0  0.883331  0.975385  0.811376  0.529098 -0.580801  \n",
              "1 -0.282454  0.584696  0.316820  0.038821 -0.080841  \n",
              "2 -0.600655 -0.152489  0.309746  0.104927 -0.338480  \n",
              "3 -0.331171 -0.589584  0.668989  0.260057  0.465806  \n",
              "4  0.066885  0.953279 -0.108147  0.251376 -0.543750  \n",
              "\n",
              "[5 rows x 385 columns]"
            ]
          },
          "metadata": {
            "tags": []
          },
          "execution_count": 8
        }
      ]
    },
    {
      "cell_type": "code",
      "metadata": {
        "id": "l7XJrokKgKm6",
        "colab_type": "code",
        "colab": {}
      },
      "source": [
        "y = df_c2v['exp']\n",
        "X = df_c2v.drop('exp', 1)\n",
        "X_resampled, y_resampled = resample(X, y)\n",
        "#print(sorted(Counter(y_resampled.T).items()))\n",
        "X_train, X_test, y_train, y_test = train_test_split(X_resampled, y_resampled, random_state=23)"
      ],
      "execution_count": 0,
      "outputs": []
    },
    {
      "cell_type": "markdown",
      "metadata": {
        "id": "hSnjd00ngR6N",
        "colab_type": "text"
      },
      "source": [
        "## Custom loss code2vec"
      ]
    },
    {
      "cell_type": "code",
      "metadata": {
        "id": "eMuNhoV99BjN",
        "colab_type": "code",
        "outputId": "45a25c84-a5d7-4c3e-fb60-b094ea38db5b",
        "colab": {
          "base_uri": "https://localhost:8080/",
          "height": 238
        }
      },
      "source": [
        "X_train"
      ],
      "execution_count": 0,
      "outputs": [
        {
          "output_type": "execute_result",
          "data": {
            "text/plain": [
              "array([[-0.01438679,  0.3345368 , -0.8996175 , ..., -0.5302292 ,\n",
              "         0.8585713 , -0.25103238],\n",
              "       [ 0.01357042,  0.51884558, -0.90628993, ..., -0.2826493 ,\n",
              "         0.73221474,  0.57430793],\n",
              "       [ 0.82422745,  0.58516496,  0.69403327, ..., -0.6134136 ,\n",
              "        -0.5360763 , -0.46073088],\n",
              "       ...,\n",
              "       [ 0.32086062,  0.40459627, -0.63095433, ...,  0.45880777,\n",
              "         0.56039832, -0.29471198],\n",
              "       [-0.1270637 ,  0.29226178, -0.9327881 , ..., -0.5400725 ,\n",
              "         0.82426435, -0.0014705 ],\n",
              "       [ 0.16497834, -0.01034388, -0.16908072, ..., -0.47794458,\n",
              "         0.52750588, -0.24562948]])"
            ]
          },
          "metadata": {
            "tags": []
          },
          "execution_count": 10
        }
      ]
    },
    {
      "cell_type": "code",
      "metadata": {
        "id": "sQlB6Y8wgRoi",
        "colab_type": "code",
        "outputId": "75ee925b-632c-42f0-c593-4971219abb84",
        "colab": {
          "base_uri": "https://localhost:8080/",
          "height": 204
        }
      },
      "source": [
        "estim = hyperopt_custom_loss_estimator(X_train, y_train, sparse=False)\n",
        "y_pred = estim.predict(X_test)\n",
        "calc_fnr_fpr(y_test, y_pred)"
      ],
      "execution_count": 0,
      "outputs": [
        {
          "output_type": "stream",
          "text": [
            "100%|██████████| 1/1 [00:13<00:00, 13.30s/it, best loss: 2.9465317919075145]\n",
            "100%|██████████| 1/1 [00:11<00:00, 11.05s/it, best loss: 2.79335260115607]\n",
            "100%|██████████| 1/1 [00:18<00:00, 18.54s/it, best loss: 2.79335260115607]\n",
            "100%|██████████| 1/1 [01:16<00:00, 76.55s/it, best loss: 2.79335260115607]\n",
            "100%|██████████| 1/1 [00:12<00:00, 12.26s/it, best loss: 2.0209537572254335]\n",
            "100%|██████████| 1/1 [00:15<00:00, 15.58s/it, best loss: 2.0209537572254335]\n",
            "100%|██████████| 1/1 [00:00<00:00,  2.57it/s, best loss: 1.9342485549132948]\n",
            "100%|██████████| 1/1 [01:39<00:00, 99.01s/it, best loss: 1.9342485549132948]\n",
            "100%|██████████| 1/1 [00:01<00:00,  1.68s/it, best loss: 1.8229768786127167]\n",
            "100%|██████████| 1/1 [00:03<00:00,  3.95s/it, best loss: 1.8229768786127167]\n"
          ],
          "name": "stdout"
        },
        {
          "output_type": "execute_result",
          "data": {
            "text/plain": [
              "(0.07368877329865627, 0.19592544429995665)"
            ]
          },
          "metadata": {
            "tags": []
          },
          "execution_count": 32
        }
      ]
    },
    {
      "cell_type": "code",
      "metadata": {
        "id": "Fw60AcKvCiKX",
        "colab_type": "code",
        "outputId": "c45e602c-c99a-406f-f133-a9624afbbe9c",
        "colab": {
          "base_uri": "https://localhost:8080/",
          "height": 204
        }
      },
      "source": [
        "estim.best_model()"
      ],
      "execution_count": 0,
      "outputs": [
        {
          "output_type": "execute_result",
          "data": {
            "text/plain": [
              "{'ex_preprocs': (),\n",
              " 'learner': GradientBoostingClassifier(criterion='friedman_mse', init=None,\n",
              "               learning_rate=0.005891891362147046, loss='deviance',\n",
              "               max_depth=None, max_features='log2', max_leaf_nodes=None,\n",
              "               min_impurity_decrease=0.0, min_impurity_split=None,\n",
              "               min_samples_leaf=8, min_samples_split=2,\n",
              "               min_weight_fraction_leaf=0.0, n_estimators=16,\n",
              "               n_iter_no_change=None, presort='auto', random_state=0,\n",
              "               subsample=1.0, tol=0.0001, validation_fraction=0.1,\n",
              "               verbose=0, warm_start=False),\n",
              " 'preprocs': ()}"
            ]
          },
          "metadata": {
            "tags": []
          },
          "execution_count": 33
        }
      ]
    },
    {
      "cell_type": "markdown",
      "metadata": {
        "id": "QhOltKy-gPE1",
        "colab_type": "text"
      },
      "source": [
        "## Hyperopt code2vec"
      ]
    },
    {
      "cell_type": "code",
      "metadata": {
        "id": "_0CpJkeLpyaw",
        "colab_type": "code",
        "outputId": "68e3a6e3-b855-4491-aa5a-b8b292b9cee9",
        "colab": {
          "base_uri": "https://localhost:8080/",
          "height": 323
        }
      },
      "source": [
        "estim = HyperoptEstimator(classifier=any_classifier('clf'),\n",
        "                          preprocessing=[],\n",
        "                          algo=tpe.suggest, \n",
        "                          trial_timeout=300,\n",
        "                          seed=23)\n",
        "estim.fit(X_train, y_train)\n",
        "y_pred = estim.predict(X_test)\n",
        "printMetrics(y_test, y_pred)"
      ],
      "execution_count": 0,
      "outputs": [
        {
          "output_type": "stream",
          "text": [
            "100%|██████████| 1/1 [00:12<00:00, 12.76s/it, best loss: 0.3128612716763006]\n",
            "100%|██████████| 1/1 [00:10<00:00, 10.28s/it, best loss: 0.30924855491329484]\n",
            "100%|██████████| 1/1 [00:15<00:00, 15.36s/it, best loss: 0.3085260115606936]\n",
            "100%|██████████| 1/1 [01:13<00:00, 73.91s/it, best loss: 0.3085260115606936]\n",
            "100%|██████████| 1/1 [00:11<00:00, 11.26s/it, best loss: 0.3085260115606936]\n",
            "100%|██████████| 1/1 [00:14<00:00, 14.06s/it, best loss: 0.3085260115606936]\n",
            "100%|██████████| 1/1 [00:00<00:00,  2.65it/s, best loss: 0.28251445086705207]\n",
            "100%|██████████| 1/1 [01:35<00:00, 95.36s/it, best loss: 0.28251445086705207]\n",
            "100%|██████████| 1/1 [00:01<00:00,  1.48s/it, best loss: 0.2817919075144508]\n",
            "100%|██████████| 1/1 [00:03<00:00,  3.53s/it, best loss: 0.25144508670520227]\n",
            "accuracy: \n",
            "0.7433896835717382\n",
            "\n",
            "precision: \n",
            "0.6740467404674046\n",
            "\n",
            "recall: \n",
            "0.9464594127806563\n"
          ],
          "name": "stdout"
        }
      ]
    },
    {
      "cell_type": "code",
      "metadata": {
        "id": "frRdg99T7lgC",
        "colab_type": "code",
        "outputId": "df02d7a8-69ad-4636-abb0-541566bd0990",
        "colab": {
          "base_uri": "https://localhost:8080/",
          "height": 170
        }
      },
      "source": [
        "logit_with_gs(df_c2v, 0.1)"
      ],
      "execution_count": 0,
      "outputs": [
        {
          "output_type": "stream",
          "text": [
            "[(0.0, 4613), (1.0, 4613)]\n",
            "accuracy: \n",
            "0.7212830515821413\n",
            "\n",
            "precision: \n",
            "0.680448493342677\n",
            "\n",
            "recall: \n",
            "0.8385146804835925\n"
          ],
          "name": "stdout"
        }
      ]
    },
    {
      "cell_type": "markdown",
      "metadata": {
        "id": "lyL-9RhXFRej",
        "colab_type": "text"
      },
      "source": [
        "# SVM"
      ]
    },
    {
      "cell_type": "code",
      "metadata": {
        "id": "zxW0MA6RFnsK",
        "colab_type": "code",
        "colab": {}
      },
      "source": [
        "from sklearn import svm"
      ],
      "execution_count": 0,
      "outputs": []
    },
    {
      "cell_type": "code",
      "metadata": {
        "id": "pxguHtRzBELR",
        "colab_type": "code",
        "colab": {}
      },
      "source": [
        "def svm_cls(df):\n",
        "  y = df['exp']\n",
        "  X = df.drop('exp', 1)\n",
        "  X_resampled, y_resampled = resample(X, y)\n",
        "  X_train, X_test, y_train, y_test = train_test_split(X_resampled, y_resampled, random_state=23)\n",
        "  clf = svm.SVC(gamma='scale', random_state=23)\n",
        "  clf.fit(X_train, y_train)\n",
        "  y_pred = clf.predict(X_test)\n",
        "  printMetrics(y_test, y_pred)\n",
        "  #parameters = {'C':[0.01, 0.03, 0.1, 0.3, 1, 3]}\n",
        "  #best_clf = GridSearchCV(clf, parameters, cv=10)\n",
        "  #best_clf.fit(X_resampled, y_resampled)\n",
        "  #print(best_clf.best_estimator_)\n",
        "  #print(best_clf.best_score_)"
      ],
      "execution_count": 0,
      "outputs": []
    },
    {
      "cell_type": "markdown",
      "metadata": {
        "id": "S-qxEdf8F9fs",
        "colab_type": "text"
      },
      "source": [
        "## code2vec"
      ]
    },
    {
      "cell_type": "code",
      "metadata": {
        "id": "kra8ybUtF8or",
        "colab_type": "code",
        "outputId": "a873222a-4602-4e65-c878-c6d48fe090a2",
        "colab": {
          "base_uri": "https://localhost:8080/",
          "height": 153
        }
      },
      "source": [
        "svm_cls(df_c2v)"
      ],
      "execution_count": 0,
      "outputs": [
        {
          "output_type": "stream",
          "text": [
            "accuracy: \n",
            "0.7078456870394452\n",
            "\n",
            "precision: \n",
            "0.6337016574585635\n",
            "\n",
            "recall: \n",
            "0.9905008635578584\n"
          ],
          "name": "stdout"
        }
      ]
    },
    {
      "cell_type": "markdown",
      "metadata": {
        "id": "VaXRgeZP3VA5",
        "colab_type": "text"
      },
      "source": [
        "# Fully-connected Neural Network"
      ]
    },
    {
      "cell_type": "code",
      "metadata": {
        "id": "a7_TkzIyHOXs",
        "colab_type": "code",
        "outputId": "4c930f25-9e25-4243-97b1-9643e35f224e",
        "colab": {
          "base_uri": "https://localhost:8080/",
          "height": 34
        }
      },
      "source": [
        "from keras.models import Sequential\n",
        "from keras.layers import Dense\n",
        "from keras.utils import to_categorical\n",
        "from keras.metrics import binary_accuracy\n",
        "from keras.layers import Dropout\n",
        "from keras.callbacks import EarlyStopping"
      ],
      "execution_count": 0,
      "outputs": [
        {
          "output_type": "stream",
          "text": [
            "Using TensorFlow backend.\n"
          ],
          "name": "stderr"
        }
      ]
    },
    {
      "cell_type": "code",
      "metadata": {
        "id": "NY3C6oPq5KOg",
        "colab_type": "code",
        "colab": {}
      },
      "source": [
        "def create_model(init, activation):\n",
        "  model = Sequential()\n",
        "  model.add(Dense(384, input_shape=(384,), init=init, activation=activation))\n",
        "  model.add(Dense(384, init=init, activation=activation))\n",
        "  model.add(Dense(100, init=init, activation=activation))\n",
        "  model.add(Dense(100, init=init, activation=activation))\n",
        "  model.add(Dense(1, init=init, activation='sigmoid'))\n",
        "  return model"
      ],
      "execution_count": 0,
      "outputs": []
    },
    {
      "cell_type": "code",
      "metadata": {
        "id": "rkJMXV1sdSem",
        "colab_type": "code",
        "colab": {}
      },
      "source": [
        "es = EarlyStopping(monitor='val_loss',\n",
        "                              min_delta=0,\n",
        "                              patience=10,\n",
        "                              verbose=0, mode='auto',\n",
        "                              restore_best_weights=True)"
      ],
      "execution_count": 0,
      "outputs": []
    },
    {
      "cell_type": "code",
      "metadata": {
        "id": "TwBC53LrB9np",
        "colab_type": "code",
        "colab": {}
      },
      "source": [
        "def split_into_test_train(df):\n",
        "  y = df['exp']\n",
        "  X = df.drop('exp', 1)\n",
        "  X_resampled, y_resampled = resample(X, y)\n",
        "  return train_test_split(X_resampled, y_resampled, random_state=23)\n",
        "X_train, X_test, y_train, y_test = split_into_test_train(df_c2v)"
      ],
      "execution_count": 0,
      "outputs": []
    },
    {
      "cell_type": "code",
      "metadata": {
        "id": "vSD5nMnB6LYG",
        "colab_type": "code",
        "colab": {}
      },
      "source": [
        "uniform_model = create_model(\"uniform\", 'tanh')\n",
        "uniform_model.compile(loss='binary_crossentropy', optimizer='sgd', metrics=['accuracy'])\n",
        "uniform_model.fit(X_train, y_train, batch_size=64, nb_epoch=100, verbose=1, validation_data=(X_test, y_test), callbacks=[es])"
      ],
      "execution_count": 0,
      "outputs": []
    },
    {
      "cell_type": "code",
      "metadata": {
        "id": "zoo87O8bU2Yb",
        "colab_type": "code",
        "outputId": "a7f09ce3-0dae-48ca-844e-1cf5173f8c1c",
        "colab": {
          "base_uri": "https://localhost:8080/",
          "height": 153
        }
      },
      "source": [
        "y_pred = uniform_model.predict_classes(X_test)\n",
        "printMetrics(y_test, y_pred)"
      ],
      "execution_count": 0,
      "outputs": [
        {
          "output_type": "stream",
          "text": [
            "accuracy: \n",
            "0.6926744690073688\n",
            "\n",
            "precision: \n",
            "0.6361431170406306\n",
            "\n",
            "recall: \n",
            "0.9058721934369602\n"
          ],
          "name": "stdout"
        }
      ]
    },
    {
      "cell_type": "code",
      "metadata": {
        "id": "NQG24v7tBDJA",
        "colab_type": "code",
        "colab": {}
      },
      "source": [
        "glorot_model = create_model(\"glorot_normal\", 'tanh')\n",
        "glorot_model.compile(loss='binary_crossentropy', optimizer='sgd', metrics=['accuracy'])\n",
        "glorot_model.fit(X_train, y_train, batch_size=64, nb_epoch=100, verbose=1, validation_data=(X_test, y_test), callbacks=[es])"
      ],
      "execution_count": 0,
      "outputs": []
    },
    {
      "cell_type": "code",
      "metadata": {
        "id": "g7PGDP1cU-bF",
        "colab_type": "code",
        "outputId": "ba5f477a-690e-4cda-ef43-f64274f701cb",
        "colab": {
          "base_uri": "https://localhost:8080/",
          "height": 153
        }
      },
      "source": [
        "y_pred = glorot_model.predict_classes(X_test)\n",
        "printMetrics(y_test, y_pred)"
      ],
      "execution_count": 0,
      "outputs": [
        {
          "output_type": "stream",
          "text": [
            "accuracy: \n",
            "0.7269180754226268\n",
            "\n",
            "precision: \n",
            "0.6841004184100419\n",
            "\n",
            "recall: \n",
            "0.8471502590673575\n"
          ],
          "name": "stdout"
        }
      ]
    },
    {
      "cell_type": "code",
      "metadata": {
        "id": "FG0u3DCSCMsM",
        "colab_type": "code",
        "colab": {}
      },
      "source": [
        "uniform_adam_model = create_model(\"uniform\", 'tanh')\n",
        "uniform_adam_model.compile(loss='binary_crossentropy', optimizer='adam', metrics=['accuracy'])\n",
        "uniform_adam_model.fit(X_train, y_train, batch_size=64, nb_epoch=100, verbose=1, validation_data=(X_test, y_test), callbacks=[es])"
      ],
      "execution_count": 0,
      "outputs": []
    },
    {
      "cell_type": "code",
      "metadata": {
        "id": "HIehjZ-QVDYP",
        "colab_type": "code",
        "outputId": "887d0eac-8d0d-423a-b4a7-b283d911ef5b",
        "colab": {
          "base_uri": "https://localhost:8080/",
          "height": 153
        }
      },
      "source": [
        "y_pred = uniform_adam_model.predict_classes(X_test)\n",
        "printMetrics(y_test, y_pred)"
      ],
      "execution_count": 0,
      "outputs": [
        {
          "output_type": "stream",
          "text": [
            "accuracy: \n",
            "0.694408322496749\n",
            "\n",
            "precision: \n",
            "0.6217087587318646\n",
            "\n",
            "recall: \n",
            "0.9991364421416234\n"
          ],
          "name": "stdout"
        }
      ]
    },
    {
      "cell_type": "code",
      "metadata": {
        "id": "r4ASwK53C5iB",
        "colab_type": "code",
        "colab": {}
      },
      "source": [
        "glorot_adam_model = create_model(\"glorot_normal\", 'tanh')\n",
        "glorot_adam_model.compile(loss='binary_crossentropy', optimizer='adam', metrics=['accuracy'])\n",
        "glorot_adam_model.fit(X_train, y_train, batch_size=64, nb_epoch=100, verbose=1, validation_data=(X_test, y_test), callbacks=[es])"
      ],
      "execution_count": 0,
      "outputs": []
    },
    {
      "cell_type": "code",
      "metadata": {
        "id": "wHzGajvBVIsh",
        "colab_type": "code",
        "outputId": "73566033-c111-4ffb-e034-97dcf85dac49",
        "colab": {
          "base_uri": "https://localhost:8080/",
          "height": 153
        }
      },
      "source": [
        "y_pred = glorot_adam_model.predict_classes(X_test)\n",
        "printMetrics(y_test, y_pred)"
      ],
      "execution_count": 0,
      "outputs": [
        {
          "output_type": "stream",
          "text": [
            "accuracy: \n",
            "0.694408322496749\n",
            "\n",
            "precision: \n",
            "0.6230309614340033\n",
            "\n",
            "recall: \n",
            "0.9905008635578584\n"
          ],
          "name": "stdout"
        }
      ]
    },
    {
      "cell_type": "code",
      "metadata": {
        "id": "9qBAA1KaDJa0",
        "colab_type": "code",
        "colab": {}
      },
      "source": [
        "glorot_adam_relu_model = create_model(\"glorot_normal\", 'relu')\n",
        "glorot_adam_relu_model.compile(loss='binary_crossentropy', optimizer='adam', metrics=['accuracy'])\n",
        "glorot_adam_relu_model.fit(X_train, y_train, batch_size=64, nb_epoch=100, verbose=1, validation_data=(X_test, y_test), callbacks=[es])"
      ],
      "execution_count": 0,
      "outputs": []
    },
    {
      "cell_type": "code",
      "metadata": {
        "id": "O2t4T68KEeww",
        "colab_type": "code",
        "outputId": "698eff31-1ec9-4c97-dcb0-e809ad475dc8",
        "colab": {
          "base_uri": "https://localhost:8080/",
          "height": 153
        }
      },
      "source": [
        "y_pred = glorot_adam_relu_model.predict_classes(X_test)\n",
        "printMetrics(y_test, y_pred)"
      ],
      "execution_count": 0,
      "outputs": [
        {
          "output_type": "stream",
          "text": [
            "accuracy: \n",
            "0.7104464672735153\n",
            "\n",
            "precision: \n",
            "0.6740056818181818\n",
            "\n",
            "recall: \n",
            "0.8195164075993091\n"
          ],
          "name": "stdout"
        }
      ]
    },
    {
      "cell_type": "code",
      "metadata": {
        "id": "lR20abHpEiNO",
        "colab_type": "code",
        "colab": {}
      },
      "source": [
        "def create_large_model(init):\n",
        "  model = Sequential()\n",
        "  model.add(Dense(384, input_shape=(384,), init=init, activation='relu'))\n",
        "  model.add(Dense(100, init=init, activation='relu'))\n",
        "  model.add(Dense(100, init=init, activation='relu'))\n",
        "  model.add(Dense(100, init=init, activation='relu'))\n",
        "  model.add(Dropout(0.5))\n",
        "  model.add(Dense(1, init=init, activation='sigmoid'))\n",
        "  return model"
      ],
      "execution_count": 0,
      "outputs": []
    },
    {
      "cell_type": "code",
      "metadata": {
        "id": "KUzphEHjFNL1",
        "colab_type": "code",
        "colab": {}
      },
      "source": [
        "glorot_adam_relu_large_model = create_large_model(\"glorot_normal\")\n",
        "glorot_adam_relu_large_model.compile(loss='binary_crossentropy', optimizer='adam', metrics=['accuracy'])\n",
        "glorot_adam_relu_large_model.fit(X_train, y_train, batch_size=128, nb_epoch=100, verbose=1, validation_data=(X_test, y_test), callbacks=[es])"
      ],
      "execution_count": 0,
      "outputs": []
    },
    {
      "cell_type": "code",
      "metadata": {
        "id": "SJ-o0JloFSq8",
        "colab_type": "code",
        "outputId": "ba43d6c0-1ddf-4a12-d7c8-69dc0a40c510",
        "colab": {
          "base_uri": "https://localhost:8080/",
          "height": 153
        }
      },
      "source": [
        "y_pred = glorot_adam_relu_large_model.predict_classes(X_test)\n",
        "printMetrics(y_test, y_pred)"
      ],
      "execution_count": 0,
      "outputs": [
        {
          "output_type": "stream",
          "text": [
            "accuracy: \n",
            "0.7126137841352406\n",
            "\n",
            "precision: \n",
            "0.6668914362778152\n",
            "\n",
            "recall: \n",
            "0.8540587219343696\n"
          ],
          "name": "stdout"
        }
      ]
    },
    {
      "cell_type": "markdown",
      "metadata": {
        "id": "_UnOe4UEWGZV",
        "colab_type": "text"
      },
      "source": [
        "## Cos distance"
      ]
    },
    {
      "cell_type": "markdown",
      "metadata": {
        "id": "PJBA9hbAuyjJ",
        "colab_type": "text"
      },
      "source": [
        "### code2vec"
      ]
    },
    {
      "cell_type": "code",
      "metadata": {
        "id": "ZyLvsklmVyLe",
        "colab_type": "code",
        "colab": {}
      },
      "source": [
        "df_cos = pd.read_csv('/content/gdrive/My Drive/code-clones/csv/cos_distance.csv')"
      ],
      "execution_count": 0,
      "outputs": []
    },
    {
      "cell_type": "code",
      "metadata": {
        "id": "9gsvcTQEWM4c",
        "colab_type": "code",
        "outputId": "cbefe47a-71c0-4b90-ff13-f780f673ddeb",
        "colab": {
          "base_uri": "https://localhost:8080/",
          "height": 255
        }
      },
      "source": [
        "logit_with_gs(df_cos)"
      ],
      "execution_count": 0,
      "outputs": [
        {
          "output_type": "stream",
          "text": [
            "[(0, 210), (1, 210)]\n",
            "accuracy: \n",
            "0.638095238095238\n",
            "\n",
            "precision: \n",
            "0.5869565217391305\n",
            "\n",
            "recall: \n",
            "1.0\n",
            "LogisticRegression(C=3, class_weight=None, dual=False, fit_intercept=True,\n",
            "          intercept_scaling=1, max_iter=100, multi_class='warn',\n",
            "          n_jobs=None, penalty='l2', random_state=23, solver='warn',\n",
            "          tol=0.0001, verbose=0, warm_start=False)\n",
            "0.6\n"
          ],
          "name": "stdout"
        }
      ]
    },
    {
      "cell_type": "code",
      "metadata": {
        "id": "nzJyDAbsWbW2",
        "colab_type": "code",
        "outputId": "268e33fa-b425-4702-e707-5f224626ad05",
        "colab": {
          "base_uri": "https://localhost:8080/",
          "height": 238
        }
      },
      "source": [
        "svm_cls(df_cos)"
      ],
      "execution_count": 0,
      "outputs": [
        {
          "output_type": "stream",
          "text": [
            "accuracy: \n",
            "0.580952380952381\n",
            "\n",
            "precision: \n",
            "0.5510204081632653\n",
            "\n",
            "recall: \n",
            "1.0\n",
            "SVC(C=3, cache_size=200, class_weight=None, coef0=0.0,\n",
            "  decision_function_shape='ovr', degree=3, gamma='scale', kernel='rbf',\n",
            "  max_iter=-1, probability=False, random_state=23, shrinking=True,\n",
            "  tol=0.001, verbose=False)\n",
            "0.5976190476190476\n"
          ],
          "name": "stdout"
        }
      ]
    },
    {
      "cell_type": "markdown",
      "metadata": {
        "id": "kT4ymeUTu09g",
        "colab_type": "text"
      },
      "source": [
        "### bow"
      ]
    },
    {
      "cell_type": "code",
      "metadata": {
        "id": "VsMchylyW0Xy",
        "colab_type": "code",
        "colab": {}
      },
      "source": [
        "df_cos = pd.read_csv('/content/gdrive/My Drive/code-clones/csv/bagofwords_cos.csv')"
      ],
      "execution_count": 0,
      "outputs": []
    },
    {
      "cell_type": "code",
      "metadata": {
        "id": "z8yeF0u0u8Hn",
        "colab_type": "code",
        "outputId": "abaed4e0-05d0-4fb1-9ec4-d2012aabf964",
        "colab": {
          "base_uri": "https://localhost:8080/",
          "height": 255
        }
      },
      "source": [
        "logit_with_gs(df_cos, C=3)"
      ],
      "execution_count": 0,
      "outputs": [
        {
          "output_type": "stream",
          "text": [
            "[(0, 3704), (1, 3704)]\n",
            "accuracy: \n",
            "0.6090712742980562\n",
            "\n",
            "precision: \n",
            "0.5832012678288431\n",
            "\n",
            "recall: \n",
            "0.7880085653104925\n",
            "LogisticRegression(C=3, class_weight=None, dual=False, fit_intercept=True,\n",
            "          intercept_scaling=1, max_iter=100, multi_class='warn',\n",
            "          n_jobs=None, penalty='l2', random_state=23, solver='warn',\n",
            "          tol=0.0001, verbose=0, warm_start=False)\n",
            "0.6186555075593952\n"
          ],
          "name": "stdout"
        }
      ]
    },
    {
      "cell_type": "code",
      "metadata": {
        "id": "xohuRtLXu-ZA",
        "colab_type": "code",
        "colab": {}
      },
      "source": [
        ""
      ],
      "execution_count": 0,
      "outputs": []
    }
  ]
}